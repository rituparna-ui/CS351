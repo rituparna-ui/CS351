{
 "cells": [
  {
   "cell_type": "code",
   "execution_count": null,
   "id": "292a1f45",
   "metadata": {},
   "outputs": [],
   "source": [
    "import boto3 as boto\n",
    "import time"
   ]
  },
  {
   "cell_type": "code",
   "execution_count": null,
   "id": "36bd88b8",
   "metadata": {},
   "outputs": [],
   "source": [
    "client = boto.client('ec2')"
   ]
  },
  {
   "cell_type": "code",
   "execution_count": null,
   "id": "0522e860",
   "metadata": {},
   "outputs": [],
   "source": [
    "response = client.run_instances(\n",
    "    InstanceType = 't2.micro',\n",
    "    MinCount = 1,\n",
    "    MaxCount = 1,\n",
    "    ImageId = 'ami-076e3a557efe1aa9c',\n",
    "    KeyName = 'lab',\n",
    "    SecurityGroupIds=['sg-076f3eb97b5647364'],\n",
    "    UserData = '''#!/bin/bash\n",
    "sudo yum update -y\n",
    "sudo yum install -y httpd.x86_64 awscli\n",
    "sudo systemctl start httpd.service\n",
    "sudo systemctl enable httpd.service\n",
    "usermod -a -G apache ec2-user\n",
    "chown -R ec2-user:apache /var/www\n",
    "chmod 2775 /var/www\n",
    "mkdir ~/.aws\n",
    "echo \"[default]\\nregion = ap-south-1\" > ~/.aws/config\n",
    "echo \"[default]\\naws_access_key_id = key\\naws_secret_access_key = secret\" > ~/.aws/credentials\n",
    "aws s3 cp s3://xd-dead/ /var/www/html --recursive''')"
   ]
  },
  {
   "cell_type": "code",
   "execution_count": null,
   "id": "500305db",
   "metadata": {},
   "outputs": [],
   "source": []
  },
  {
   "cell_type": "code",
   "execution_count": null,
   "id": "dc519de8",
   "metadata": {},
   "outputs": [],
   "source": [
    "# print(response)"
   ]
  },
  {
   "cell_type": "code",
   "execution_count": null,
   "id": "27d370b9",
   "metadata": {},
   "outputs": [],
   "source": [
    "response['Instances'][0]['InstanceId']"
   ]
  },
  {
   "cell_type": "code",
   "execution_count": null,
   "id": "7f318adb",
   "metadata": {},
   "outputs": [],
   "source": []
  },
  {
   "cell_type": "code",
   "execution_count": null,
   "id": "b6270bb2",
   "metadata": {},
   "outputs": [],
   "source": [
    "desc = client.describe_instances(InstanceIds=[response['Instances'][0]['InstanceId']])\n",
    "while(desc['Reservations'][0]['Instances'][0][\"State\"][\"Name\"]!='running'):\n",
    "    time.sleep(5)\n",
    "    desc = client.describe_instances(InstanceIds=[response['Instances'][0]['InstanceId']])\n",
    "print(desc['Reservations'][0]['Instances'][0]['PublicDnsName'])"
   ]
  }
 ],
 "metadata": {
  "kernelspec": {
   "display_name": "Python 3 (ipykernel)",
   "language": "python",
   "name": "python3"
  },
  "language_info": {
   "codemirror_mode": {
    "name": "ipython",
    "version": 3
   },
   "file_extension": ".py",
   "mimetype": "text/x-python",
   "name": "python",
   "nbconvert_exporter": "python",
   "pygments_lexer": "ipython3",
   "version": "3.10.6"
  }
 },
 "nbformat": 4,
 "nbformat_minor": 5
}
