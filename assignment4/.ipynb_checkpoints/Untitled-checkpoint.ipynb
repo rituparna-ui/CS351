{
 "cells": [
  {
   "cell_type": "code",
   "execution_count": 1,
   "id": "0752bab2",
   "metadata": {},
   "outputs": [],
   "source": [
    "import boto3\n",
    "import time\n",
    "\n",
    "ebsClient = boto3.client(\"elasticbeanstalk\")\n",
    "\n",
    "ebsClient.create_application_version(\n",
    "    ApplicationName=\"RituBean\",\n",
    "    AutoCreateApplication=True,\n",
    "    Process=True,\n",
    "    SourceBundle={\n",
    "        \"S3Bucket\": \"\",\n",
    "        \"S3Key\": \"test2.zip\",\n",
    "    },\n",
    "    VersionLabel=\"version 1.0\",\n",
    ")\n",
    "\n",
    "while True:\n",
    "    response = ebsClient.describe_application_versions(\n",
    "        ApplicationName=\"RituBean\",\n",
    "        VersionLabels=[\n",
    "            \"version 1.0\",\n",
    "        ],\n",
    "        MaxRecords=123,\n",
    "    )\n",
    "    print(response)\n",
    "\n",
    "    if response[\"ApplicationVersions\"][0][\"Status\"] != \"PROCESSED\":\n",
    "        time.sleep(3)\n",
    "    else:\n",
    "        break\n",
    "\n",
    "\n",
    "response = ebsClient.create_environment(\n",
    "    ApplicationName=\"RituBean\",\n",
    "    EnvironmentName=\"RituBeanEnv\",\n",
    "    SolutionStackName=\"64bit Amazon Linux 2 v5.5.6 running Node.js 16\",\n",
    "    VersionLabel=\"version 1.0\",\n",
    "    OptionSettings=[\n",
    "        {\n",
    "            \"Namespace\": \"aws:autoscaling:launchconfiguration\",\n",
    "            \"OptionName\": \"IamInstanceProfile\",\n",
    "            \"Value\": \"aws-elasticbeanstalk-ec2-role\",\n",
    "            \n",
    "        }\n",
    "    ]\n",
    ")"
   ]
  }
 ],
 "metadata": {
  "kernelspec": {
   "display_name": "Python 3 (ipykernel)",
   "language": "python",
   "name": "python3"
  },
  "language_info": {
   "codemirror_mode": {
    "name": "ipython",
    "version": 3
   },
   "file_extension": ".py",
   "mimetype": "text/x-python",
   "name": "python",
   "nbconvert_exporter": "python",
   "pygments_lexer": "ipython3",
   "version": "3.10.6"
  }
 },
 "nbformat": 4,
 "nbformat_minor": 5
}
